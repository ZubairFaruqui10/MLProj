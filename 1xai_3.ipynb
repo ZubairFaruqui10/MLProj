{
 "cells": [
  {
   "metadata": {},
   "cell_type": "markdown",
   "source": [
    "Let's implement the entire process using PyTorch. We'll load the MNIST dataset, train a fully connected neural network, and explain the predictions using both LIME and SHAP.\n",
    "\n",
    "1. Load the MNIST Dataset and Train a Fully Connected Neural Network\n",
    "Step 1: Load the MNIST Dataset"
   ],
   "id": "72994c862483fb7a"
  },
  {
   "metadata": {
    "ExecuteTime": {
     "end_time": "2024-09-19T00:14:50.864434Z",
     "start_time": "2024-09-19T00:14:10.584065Z"
    }
   },
   "cell_type": "code",
   "source": [
    "import torch\n",
    "import torch.nn as nn\n",
    "import torch.optim as optim\n",
    "from torchvision import datasets, transforms\n",
    "from torch.utils.data import DataLoader\n",
    "\n",
    "# Define a transform to normalize the data\n",
    "transform = transforms.Compose([transforms.ToTensor(), transforms.Normalize((0.5,), (0.5,))])\n",
    "\n",
    "# Load the MNIST dataset\n",
    "train_data = datasets.MNIST(root='./data', train=True, download=True, transform=transform)\n",
    "test_data = datasets.MNIST(root='./data', train=False, download=True, transform=transform)\n",
    "\n",
    "# DataLoaders for batching\n",
    "train_loader = DataLoader(train_data, batch_size=64, shuffle=True)\n",
    "test_loader = DataLoader(test_data, batch_size=64, shuffle=False)\n"
   ],
   "id": "cb0ca1be388bcb47",
   "outputs": [
    {
     "name": "stdout",
     "output_type": "stream",
     "text": [
      "Downloading http://yann.lecun.com/exdb/mnist/train-images-idx3-ubyte.gz\n",
      "Failed to download (trying next):\n",
      "HTTP Error 403: Forbidden\n",
      "\n",
      "Downloading https://ossci-datasets.s3.amazonaws.com/mnist/train-images-idx3-ubyte.gz\n",
      "Downloading https://ossci-datasets.s3.amazonaws.com/mnist/train-images-idx3-ubyte.gz to ./data/MNIST/raw/train-images-idx3-ubyte.gz\n"
     ]
    },
    {
     "name": "stderr",
     "output_type": "stream",
     "text": [
      "100.0%\n"
     ]
    },
    {
     "name": "stdout",
     "output_type": "stream",
     "text": [
      "Extracting ./data/MNIST/raw/train-images-idx3-ubyte.gz to ./data/MNIST/raw\n",
      "\n",
      "Downloading http://yann.lecun.com/exdb/mnist/train-labels-idx1-ubyte.gz\n",
      "Failed to download (trying next):\n",
      "HTTP Error 403: Forbidden\n",
      "\n",
      "Downloading https://ossci-datasets.s3.amazonaws.com/mnist/train-labels-idx1-ubyte.gz\n",
      "Downloading https://ossci-datasets.s3.amazonaws.com/mnist/train-labels-idx1-ubyte.gz to ./data/MNIST/raw/train-labels-idx1-ubyte.gz\n"
     ]
    },
    {
     "name": "stderr",
     "output_type": "stream",
     "text": [
      "100.0%\n"
     ]
    },
    {
     "name": "stdout",
     "output_type": "stream",
     "text": [
      "Extracting ./data/MNIST/raw/train-labels-idx1-ubyte.gz to ./data/MNIST/raw\n",
      "\n",
      "Downloading http://yann.lecun.com/exdb/mnist/t10k-images-idx3-ubyte.gz\n",
      "Failed to download (trying next):\n",
      "HTTP Error 403: Forbidden\n",
      "\n",
      "Downloading https://ossci-datasets.s3.amazonaws.com/mnist/t10k-images-idx3-ubyte.gz\n",
      "Downloading https://ossci-datasets.s3.amazonaws.com/mnist/t10k-images-idx3-ubyte.gz to ./data/MNIST/raw/t10k-images-idx3-ubyte.gz\n"
     ]
    },
    {
     "name": "stderr",
     "output_type": "stream",
     "text": [
      "100.0%\n"
     ]
    },
    {
     "name": "stdout",
     "output_type": "stream",
     "text": [
      "Extracting ./data/MNIST/raw/t10k-images-idx3-ubyte.gz to ./data/MNIST/raw\n",
      "\n",
      "Downloading http://yann.lecun.com/exdb/mnist/t10k-labels-idx1-ubyte.gz\n",
      "Failed to download (trying next):\n",
      "HTTP Error 403: Forbidden\n",
      "\n",
      "Downloading https://ossci-datasets.s3.amazonaws.com/mnist/t10k-labels-idx1-ubyte.gz\n",
      "Downloading https://ossci-datasets.s3.amazonaws.com/mnist/t10k-labels-idx1-ubyte.gz to ./data/MNIST/raw/t10k-labels-idx1-ubyte.gz\n"
     ]
    },
    {
     "name": "stderr",
     "output_type": "stream",
     "text": [
      "100.0%"
     ]
    },
    {
     "name": "stdout",
     "output_type": "stream",
     "text": [
      "Extracting ./data/MNIST/raw/t10k-labels-idx1-ubyte.gz to ./data/MNIST/raw\n",
      "\n"
     ]
    },
    {
     "name": "stderr",
     "output_type": "stream",
     "text": [
      "\n"
     ]
    }
   ],
   "execution_count": 1
  },
  {
   "metadata": {},
   "cell_type": "markdown",
   "source": "Step 2: Build a Fully Connected Neural Network\n",
   "id": "1e9b4edd6547150f"
  },
  {
   "metadata": {
    "ExecuteTime": {
     "end_time": "2024-09-19T00:15:38.470881Z",
     "start_time": "2024-09-19T00:14:50.919170Z"
    }
   },
   "cell_type": "code",
   "source": [
    "# Define the model\n",
    "class NeuralNet(nn.Module):\n",
    "    def __init__(self):\n",
    "        super(NeuralNet, self).__init__()\n",
    "        self.fc1 = nn.Linear(28*28, 128)\n",
    "        self.fc2 = nn.Linear(128, 64)\n",
    "        self.fc3 = nn.Linear(64, 10)\n",
    "        self.softmax = nn.LogSoftmax(dim=1)  # LogSoftmax for classification\n",
    "\n",
    "    def forward(self, x):\n",
    "        x = x.reshape(-1, 28*28)  # Flatten the image\n",
    "        x = torch.relu(self.fc1(x))\n",
    "        x = torch.relu(self.fc2(x))\n",
    "        x = self.fc3(x)\n",
    "        x = self.softmax(x)  # Apply log softmax to output probabilities\n",
    "        return x\n",
    "\n",
    "# Initialize the model, loss function, and optimizer\n",
    "model = NeuralNet()\n",
    "criterion = nn.NLLLoss()  # Use NLLLoss since LogSoftmax is applied in the model\n",
    "optimizer = optim.Adam(model.parameters(), lr=0.001)\n",
    "\n",
    "# Training loop\n",
    "epochs = 5\n",
    "for epoch in range(epochs):\n",
    "    running_loss = 0\n",
    "    for images, labels in train_loader:\n",
    "        # Zero gradients\n",
    "        optimizer.zero_grad()\n",
    "\n",
    "        # Forward pass\n",
    "        outputs = model(images)\n",
    "        loss = criterion(outputs, labels)\n",
    "\n",
    "        # Backward pass and optimization\n",
    "        loss.backward()\n",
    "        optimizer.step()\n",
    "\n",
    "        running_loss += loss.item()\n",
    "\n",
    "    print(f\"Epoch [{epoch+1}/{epochs}], Loss: {running_loss/len(train_loader):.4f}\")\n"
   ],
   "id": "f28df819fff964df",
   "outputs": [
    {
     "name": "stdout",
     "output_type": "stream",
     "text": [
      "Epoch [1/5], Loss: 0.4130\n",
      "Epoch [2/5], Loss: 0.2057\n",
      "Epoch [3/5], Loss: 0.1490\n",
      "Epoch [4/5], Loss: 0.1218\n",
      "Epoch [5/5], Loss: 0.1034\n"
     ]
    }
   ],
   "execution_count": 2
  },
  {
   "metadata": {},
   "cell_type": "markdown",
   "source": "",
   "id": "2cf6604b3219cd2d"
  },
  {
   "metadata": {},
   "cell_type": "markdown",
   "source": "2. Select Test Images and Use LIME to Explain Predictions\n",
   "id": "e7ade52953ad501e"
  },
  {
   "metadata": {
    "ExecuteTime": {
     "end_time": "2024-09-19T01:14:49.052981Z",
     "start_time": "2024-09-19T01:14:48.533548Z"
    }
   },
   "cell_type": "code",
   "source": [
    "import matplotlib.pyplot as plt\n",
    "from lime import lime_image\n",
    "from skimage.segmentation import mark_boundaries\n",
    "from torch.autograd import Variable\n",
    "import torch\n",
    "import numpy as np\n",
    "\n",
    "# Function to predict using the PyTorch model\n",
    "import torch\n",
    "import torch.nn.functional as F\n",
    "\n",
    "# Function to predict using the PyTorch model\n",
    "def predict(images):\n",
    "    # Convert images to PyTorch tensor, and reshape to (batch_size, channels, height, width)\n",
    "    images = torch.Tensor(images).permute(0, 3, 1, 2)  # Convert (batch_size, height, width, 3) to (batch_size, 3, height, width)\n",
    "    images = images / 255.0  # Normalize the images to [0, 1]\n",
    "\n",
    "    # Pass the images through the model and get predictions (logits)\n",
    "    with torch.no_grad():\n",
    "        outputs = model(images)  # Outputs shape: (batch_size, num_classes)\n",
    "    \n",
    "    # Apply softmax to convert logits to probabilities\n",
    "    probs = F.softmax(outputs, dim=1) #torch.exp(outputs)\n",
    "\n",
    "    print(f\"Number of images: {images.shape[0]}\")  # Should be 10 for LIME's input\n",
    "    print(f\"Number of predictions (probabilities): {probs.shape[0]}\")  # Should be 10\n",
    "\n",
    "    return probs.detach().cpu().numpy()  # Return the probabilities for each class\n",
    "\n",
    "\n",
    "\n",
    "# Function to convert grayscale image (1 channel) to RGB (3 channels)\n",
    "def grayscale_to_rgb(image):\n",
    "    \"\"\"\n",
    "    Convert a grayscale image of shape (28, 28, 1) to RGB of shape (28, 28, 3).\n",
    "    \"\"\"\n",
    "    if image.shape[-1] == 1:\n",
    "        image = np.squeeze(image, axis=-1)  # Remove the last dimension if it’s (28, 28, 1)\n",
    "    return np.stack((image,) * 3, axis=-1)  # Stack grayscale into 3 channels (RGB)\n",
    "\n",
    "# Select test images\n",
    "dataiter = iter(test_loader)\n",
    "images, labels = next(dataiter)  # Use next() to get the batch of images and labels\n",
    "\n",
    "# Take a few test images\n",
    "test_images = images[:5]\n",
    "test_labels = labels[:5]\n",
    "\n",
    "# Create a LIME explainer\n",
    "explainer = lime_image.LimeImageExplainer()\n",
    "\n",
    "# Explain a single image\n",
    "i = 0  # Index of the image to explain\n",
    "image = test_images[i].numpy().transpose(1, 2, 0)  # Convert PyTorch tensor to numpy array and reshape to (28, 28, 1)\n",
    "\n",
    "# Fix the shape by squeezing if necessary, then convert to RGB\n",
    "image_rgb = grayscale_to_rgb(image)  # Convert the grayscale image to RGB (shape should be (28, 28, 3))\n",
    "\n",
    "# Check the shape to ensure it's correct before passing to LIME\n",
    "print(\"Image RGB shape:\", image_rgb.shape)  # Should output (28, 28, 3)\n",
    "\n",
    "# Generate the explanation using LIME\n",
    "explanation = explainer.explain_instance(image_rgb, predict, top_labels=1, hide_color=0, num_samples=1000)\n",
    "\n",
    "# Visualize the LIME explanation\n",
    "temp, mask = explanation.get_image_and_mask(explanation.top_labels[0], positive_only=True, num_features=5, hide_rest=False)\n",
    "plt.imshow(mark_boundaries(temp / 2 + 0.5, mask))\n",
    "plt.title(f\"LIME Explanation for Test Image {i}\")\n",
    "plt.show()\n"
   ],
   "id": "16dd85ce4c5cf108",
   "outputs": [
    {
     "name": "stdout",
     "output_type": "stream",
     "text": [
      "Image RGB shape: (28, 28, 3)\n"
     ]
    },
    {
     "name": "stderr",
     "output_type": "stream",
     "text": [
      "100%|██████████| 1000/1000 [00:00<00:00, 6807.26it/s]"
     ]
    },
    {
     "name": "stdout",
     "output_type": "stream",
     "text": [
      "Number of images: 10\n",
      "Number of predictions (probabilities): 30\n",
      "Number of images: 10\n",
      "Number of predictions (probabilities): 30\n",
      "Number of images: 10\n",
      "Number of predictions (probabilities): 30\n",
      "Number of images: 10\n",
      "Number of predictions (probabilities): 30\n",
      "Number of images: 10\n",
      "Number of predictions (probabilities): 30\n",
      "Number of images: 10\n",
      "Number of predictions (probabilities): 30\n",
      "Number of images: 10\n",
      "Number of predictions (probabilities): 30\n",
      "Number of images: 10\n",
      "Number of predictions (probabilities): 30\n",
      "Number of images: 10\n",
      "Number of predictions (probabilities): 30\n",
      "Number of images: 10\n",
      "Number of predictions (probabilities): 30\n",
      "Number of images: 10\n",
      "Number of predictions (probabilities): 30\n",
      "Number of images: 10\n",
      "Number of predictions (probabilities): 30\n",
      "Number of images: 10\n",
      "Number of predictions (probabilities): 30\n",
      "Number of images: 10\n",
      "Number of predictions (probabilities): 30\n",
      "Number of images: 10\n",
      "Number of predictions (probabilities): 30\n",
      "Number of images: 10\n",
      "Number of predictions (probabilities): 30\n",
      "Number of images: 10\n",
      "Number of predictions (probabilities): 30\n",
      "Number of images: 10\n",
      "Number of predictions (probabilities): 30\n",
      "Number of images: 10\n",
      "Number of predictions (probabilities): 30\n",
      "Number of images: 10\n",
      "Number of predictions (probabilities): 30\n",
      "Number of images: 10\n",
      "Number of predictions (probabilities): 30\n",
      "Number of images: 10\n",
      "Number of predictions (probabilities): 30\n",
      "Number of images: 10\n",
      "Number of predictions (probabilities): 30\n",
      "Number of images: 10\n",
      "Number of predictions (probabilities): 30\n",
      "Number of images: 10\n",
      "Number of predictions (probabilities): 30\n",
      "Number of images: 10\n",
      "Number of predictions (probabilities): 30\n",
      "Number of images: 10\n",
      "Number of predictions (probabilities): 30\n",
      "Number of images: 10\n",
      "Number of predictions (probabilities): 30\n",
      "Number of images: 10\n",
      "Number of predictions (probabilities): 30\n",
      "Number of images: 10\n",
      "Number of predictions (probabilities): 30\n",
      "Number of images: 10\n",
      "Number of predictions (probabilities): 30\n",
      "Number of images: 10\n",
      "Number of predictions (probabilities): 30\n",
      "Number of images: 10\n",
      "Number of predictions (probabilities): 30\n",
      "Number of images: 10\n",
      "Number of predictions (probabilities): 30\n",
      "Number of images: 10\n",
      "Number of predictions (probabilities): 30\n",
      "Number of images: 10\n",
      "Number of predictions (probabilities): 30\n",
      "Number of images: 10\n",
      "Number of predictions (probabilities): 30\n",
      "Number of images: 10\n",
      "Number of predictions (probabilities): 30\n",
      "Number of images: 10\n",
      "Number of predictions (probabilities): 30\n",
      "Number of images: 10\n",
      "Number of predictions (probabilities): 30\n",
      "Number of images: 10\n",
      "Number of predictions (probabilities): 30\n",
      "Number of images: 10\n",
      "Number of predictions (probabilities): 30\n",
      "Number of images: 10\n",
      "Number of predictions (probabilities): 30\n",
      "Number of images: 10\n",
      "Number of predictions (probabilities): 30\n",
      "Number of images: 10\n",
      "Number of predictions (probabilities): 30\n",
      "Number of images: 10\n",
      "Number of predictions (probabilities): 30\n",
      "Number of images: 10\n",
      "Number of predictions (probabilities): 30\n",
      "Number of images: 10\n",
      "Number of predictions (probabilities): 30\n",
      "Number of images: 10\n",
      "Number of predictions (probabilities): 30\n",
      "Number of images: 10\n",
      "Number of predictions (probabilities): 30\n",
      "Number of images: 10\n",
      "Number of predictions (probabilities): 30\n",
      "Number of images: 10\n",
      "Number of predictions (probabilities): 30\n",
      "Number of images: 10\n",
      "Number of predictions (probabilities): 30\n",
      "Number of images: 10\n",
      "Number of predictions (probabilities): 30\n",
      "Number of images: 10\n",
      "Number of predictions (probabilities): 30\n",
      "Number of images: 10\n",
      "Number of predictions (probabilities): 30\n",
      "Number of images: 10\n",
      "Number of predictions (probabilities): 30\n",
      "Number of images: 10\n",
      "Number of predictions (probabilities): 30\n",
      "Number of images: 10\n",
      "Number of predictions (probabilities): 30\n",
      "Number of images: 10\n",
      "Number of predictions (probabilities): 30\n",
      "Number of images: 10\n",
      "Number of predictions (probabilities): 30\n",
      "Number of images: 10\n",
      "Number of predictions (probabilities): 30\n",
      "Number of images: 10\n",
      "Number of predictions (probabilities): 30\n",
      "Number of images: 10\n",
      "Number of predictions (probabilities): 30\n",
      "Number of images: 10\n",
      "Number of predictions (probabilities): 30\n",
      "Number of images: 10\n",
      "Number of predictions (probabilities): 30\n",
      "Number of images: 10\n",
      "Number of predictions (probabilities): 30\n",
      "Number of images: 10\n",
      "Number of predictions (probabilities): 30\n",
      "Number of images: 10\n",
      "Number of predictions (probabilities): 30\n",
      "Number of images: 10\n",
      "Number of predictions (probabilities): 30\n",
      "Number of images: 10\n",
      "Number of predictions (probabilities): 30\n",
      "Number of images: 10\n",
      "Number of predictions (probabilities): 30\n",
      "Number of images: 10\n",
      "Number of predictions (probabilities): 30\n",
      "Number of images: 10\n",
      "Number of predictions (probabilities): 30\n",
      "Number of images: 10\n",
      "Number of predictions (probabilities): 30\n",
      "Number of images: 10\n",
      "Number of predictions (probabilities): 30\n",
      "Number of images: 10\n",
      "Number of predictions (probabilities): 30\n",
      "Number of images: 10\n",
      "Number of predictions (probabilities): 30\n",
      "Number of images: 10\n",
      "Number of predictions (probabilities): 30\n",
      "Number of images: 10\n",
      "Number of predictions (probabilities): 30\n",
      "Number of images: 10\n",
      "Number of predictions (probabilities): 30\n",
      "Number of images: 10\n",
      "Number of predictions (probabilities): 30\n",
      "Number of images: 10\n",
      "Number of predictions (probabilities): 30\n",
      "Number of images: 10\n",
      "Number of predictions (probabilities): 30\n",
      "Number of images: 10\n",
      "Number of predictions (probabilities): 30\n",
      "Number of images: 10\n",
      "Number of predictions (probabilities): 30\n",
      "Number of images: 10\n",
      "Number of predictions (probabilities): 30\n",
      "Number of images: 10\n",
      "Number of predictions (probabilities): 30\n",
      "Number of images: 10\n",
      "Number of predictions (probabilities): 30\n",
      "Number of images: 10\n",
      "Number of predictions (probabilities): 30\n",
      "Number of images: 10\n",
      "Number of predictions (probabilities): 30\n",
      "Number of images: 10\n",
      "Number of predictions (probabilities): 30\n",
      "Number of images: 10\n",
      "Number of predictions (probabilities): 30\n",
      "Number of images: 10\n",
      "Number of predictions (probabilities): 30\n",
      "Number of images: 10\n",
      "Number of predictions (probabilities): 30\n",
      "Number of images: 10\n",
      "Number of predictions (probabilities): 30\n",
      "Number of images: 10\n",
      "Number of predictions (probabilities): 30\n",
      "Number of images: 10\n",
      "Number of predictions (probabilities): 30\n",
      "Number of images: 10\n",
      "Number of predictions (probabilities): 30\n",
      "Number of images: 10\n",
      "Number of predictions (probabilities): 30\n"
     ]
    },
    {
     "name": "stderr",
     "output_type": "stream",
     "text": [
      "\n"
     ]
    },
    {
     "ename": "ValueError",
     "evalue": "Found input variables with inconsistent numbers of samples: [1000, 3000]",
     "output_type": "error",
     "traceback": [
      "\u001B[0;31m---------------------------------------------------------------------------\u001B[0m",
      "\u001B[0;31mValueError\u001B[0m                                Traceback (most recent call last)",
      "Cell \u001B[0;32mIn[7], line 63\u001B[0m\n\u001B[1;32m     60\u001B[0m \u001B[38;5;28mprint\u001B[39m(\u001B[38;5;124m\"\u001B[39m\u001B[38;5;124mImage RGB shape:\u001B[39m\u001B[38;5;124m\"\u001B[39m, image_rgb\u001B[38;5;241m.\u001B[39mshape)  \u001B[38;5;66;03m# Should output (28, 28, 3)\u001B[39;00m\n\u001B[1;32m     62\u001B[0m \u001B[38;5;66;03m# Generate the explanation using LIME\u001B[39;00m\n\u001B[0;32m---> 63\u001B[0m explanation \u001B[38;5;241m=\u001B[39m explainer\u001B[38;5;241m.\u001B[39mexplain_instance(image_rgb, predict, top_labels\u001B[38;5;241m=\u001B[39m\u001B[38;5;241m1\u001B[39m, hide_color\u001B[38;5;241m=\u001B[39m\u001B[38;5;241m0\u001B[39m, num_samples\u001B[38;5;241m=\u001B[39m\u001B[38;5;241m1000\u001B[39m)\n\u001B[1;32m     65\u001B[0m \u001B[38;5;66;03m# Visualize the LIME explanation\u001B[39;00m\n\u001B[1;32m     66\u001B[0m temp, mask \u001B[38;5;241m=\u001B[39m explanation\u001B[38;5;241m.\u001B[39mget_image_and_mask(explanation\u001B[38;5;241m.\u001B[39mtop_labels[\u001B[38;5;241m0\u001B[39m], positive_only\u001B[38;5;241m=\u001B[39m\u001B[38;5;28;01mTrue\u001B[39;00m, num_features\u001B[38;5;241m=\u001B[39m\u001B[38;5;241m5\u001B[39m, hide_rest\u001B[38;5;241m=\u001B[39m\u001B[38;5;28;01mFalse\u001B[39;00m)\n",
      "File \u001B[0;32m/opt/miniconda3/envs/zPythonCondaEnv/lib/python3.11/site-packages/lime/lime_image.py:216\u001B[0m, in \u001B[0;36mLimeImageExplainer.explain_instance\u001B[0;34m(self, image, classifier_fn, labels, hide_color, top_labels, num_features, num_samples, batch_size, segmentation_fn, distance_metric, model_regressor, random_seed)\u001B[0m\n\u001B[1;32m    212\u001B[0m     ret_exp\u001B[38;5;241m.\u001B[39mtop_labels\u001B[38;5;241m.\u001B[39mreverse()\n\u001B[1;32m    213\u001B[0m \u001B[38;5;28;01mfor\u001B[39;00m label \u001B[38;5;129;01min\u001B[39;00m top:\n\u001B[1;32m    214\u001B[0m     (ret_exp\u001B[38;5;241m.\u001B[39mintercept[label],\n\u001B[1;32m    215\u001B[0m      ret_exp\u001B[38;5;241m.\u001B[39mlocal_exp[label],\n\u001B[0;32m--> 216\u001B[0m      ret_exp\u001B[38;5;241m.\u001B[39mscore, ret_exp\u001B[38;5;241m.\u001B[39mlocal_pred) \u001B[38;5;241m=\u001B[39m \u001B[38;5;28mself\u001B[39m\u001B[38;5;241m.\u001B[39mbase\u001B[38;5;241m.\u001B[39mexplain_instance_with_data(\n\u001B[1;32m    217\u001B[0m         data, labels, distances, label, num_features,\n\u001B[1;32m    218\u001B[0m         model_regressor\u001B[38;5;241m=\u001B[39mmodel_regressor,\n\u001B[1;32m    219\u001B[0m         feature_selection\u001B[38;5;241m=\u001B[39m\u001B[38;5;28mself\u001B[39m\u001B[38;5;241m.\u001B[39mfeature_selection)\n\u001B[1;32m    220\u001B[0m \u001B[38;5;28;01mreturn\u001B[39;00m ret_exp\n",
      "File \u001B[0;32m/opt/miniconda3/envs/zPythonCondaEnv/lib/python3.11/site-packages/lime/lime_base.py:183\u001B[0m, in \u001B[0;36mLimeBase.explain_instance_with_data\u001B[0;34m(self, neighborhood_data, neighborhood_labels, distances, label, num_features, feature_selection, model_regressor)\u001B[0m\n\u001B[1;32m    181\u001B[0m weights \u001B[38;5;241m=\u001B[39m \u001B[38;5;28mself\u001B[39m\u001B[38;5;241m.\u001B[39mkernel_fn(distances)\n\u001B[1;32m    182\u001B[0m labels_column \u001B[38;5;241m=\u001B[39m neighborhood_labels[:, label]\n\u001B[0;32m--> 183\u001B[0m used_features \u001B[38;5;241m=\u001B[39m \u001B[38;5;28mself\u001B[39m\u001B[38;5;241m.\u001B[39mfeature_selection(neighborhood_data,\n\u001B[1;32m    184\u001B[0m                                        labels_column,\n\u001B[1;32m    185\u001B[0m                                        weights,\n\u001B[1;32m    186\u001B[0m                                        num_features,\n\u001B[1;32m    187\u001B[0m                                        feature_selection)\n\u001B[1;32m    188\u001B[0m \u001B[38;5;28;01mif\u001B[39;00m model_regressor \u001B[38;5;129;01mis\u001B[39;00m \u001B[38;5;28;01mNone\u001B[39;00m:\n\u001B[1;32m    189\u001B[0m     model_regressor \u001B[38;5;241m=\u001B[39m Ridge(alpha\u001B[38;5;241m=\u001B[39m\u001B[38;5;241m1\u001B[39m, fit_intercept\u001B[38;5;241m=\u001B[39m\u001B[38;5;28;01mTrue\u001B[39;00m,\n\u001B[1;32m    190\u001B[0m                             random_state\u001B[38;5;241m=\u001B[39m\u001B[38;5;28mself\u001B[39m\u001B[38;5;241m.\u001B[39mrandom_state)\n",
      "File \u001B[0;32m/opt/miniconda3/envs/zPythonCondaEnv/lib/python3.11/site-packages/lime/lime_base.py:134\u001B[0m, in \u001B[0;36mLimeBase.feature_selection\u001B[0;34m(self, data, labels, weights, num_features, method)\u001B[0m\n\u001B[1;32m    132\u001B[0m \u001B[38;5;28;01melse\u001B[39;00m:\n\u001B[1;32m    133\u001B[0m     n_method \u001B[38;5;241m=\u001B[39m \u001B[38;5;124m'\u001B[39m\u001B[38;5;124mhighest_weights\u001B[39m\u001B[38;5;124m'\u001B[39m\n\u001B[0;32m--> 134\u001B[0m \u001B[38;5;28;01mreturn\u001B[39;00m \u001B[38;5;28mself\u001B[39m\u001B[38;5;241m.\u001B[39mfeature_selection(data, labels, weights,\n\u001B[1;32m    135\u001B[0m                               num_features, n_method)\n",
      "File \u001B[0;32m/opt/miniconda3/envs/zPythonCondaEnv/lib/python3.11/site-packages/lime/lime_base.py:80\u001B[0m, in \u001B[0;36mLimeBase.feature_selection\u001B[0;34m(self, data, labels, weights, num_features, method)\u001B[0m\n\u001B[1;32m     77\u001B[0m \u001B[38;5;28;01melif\u001B[39;00m method \u001B[38;5;241m==\u001B[39m \u001B[38;5;124m'\u001B[39m\u001B[38;5;124mhighest_weights\u001B[39m\u001B[38;5;124m'\u001B[39m:\n\u001B[1;32m     78\u001B[0m     clf \u001B[38;5;241m=\u001B[39m Ridge(alpha\u001B[38;5;241m=\u001B[39m\u001B[38;5;241m0.01\u001B[39m, fit_intercept\u001B[38;5;241m=\u001B[39m\u001B[38;5;28;01mTrue\u001B[39;00m,\n\u001B[1;32m     79\u001B[0m                 random_state\u001B[38;5;241m=\u001B[39m\u001B[38;5;28mself\u001B[39m\u001B[38;5;241m.\u001B[39mrandom_state)\n\u001B[0;32m---> 80\u001B[0m     clf\u001B[38;5;241m.\u001B[39mfit(data, labels, sample_weight\u001B[38;5;241m=\u001B[39mweights)\n\u001B[1;32m     82\u001B[0m     coef \u001B[38;5;241m=\u001B[39m clf\u001B[38;5;241m.\u001B[39mcoef_\n\u001B[1;32m     83\u001B[0m     \u001B[38;5;28;01mif\u001B[39;00m sp\u001B[38;5;241m.\u001B[39msparse\u001B[38;5;241m.\u001B[39missparse(data):\n",
      "File \u001B[0;32m/opt/miniconda3/envs/zPythonCondaEnv/lib/python3.11/site-packages/sklearn/linear_model/_ridge.py:1126\u001B[0m, in \u001B[0;36mRidge.fit\u001B[0;34m(self, X, y, sample_weight)\u001B[0m\n\u001B[1;32m   1123\u001B[0m \u001B[38;5;28mself\u001B[39m\u001B[38;5;241m.\u001B[39m_validate_params()\n\u001B[1;32m   1125\u001B[0m _accept_sparse \u001B[38;5;241m=\u001B[39m _get_valid_accept_sparse(sparse\u001B[38;5;241m.\u001B[39missparse(X), \u001B[38;5;28mself\u001B[39m\u001B[38;5;241m.\u001B[39msolver)\n\u001B[0;32m-> 1126\u001B[0m X, y \u001B[38;5;241m=\u001B[39m \u001B[38;5;28mself\u001B[39m\u001B[38;5;241m.\u001B[39m_validate_data(\n\u001B[1;32m   1127\u001B[0m     X,\n\u001B[1;32m   1128\u001B[0m     y,\n\u001B[1;32m   1129\u001B[0m     accept_sparse\u001B[38;5;241m=\u001B[39m_accept_sparse,\n\u001B[1;32m   1130\u001B[0m     dtype\u001B[38;5;241m=\u001B[39m[np\u001B[38;5;241m.\u001B[39mfloat64, np\u001B[38;5;241m.\u001B[39mfloat32],\n\u001B[1;32m   1131\u001B[0m     multi_output\u001B[38;5;241m=\u001B[39m\u001B[38;5;28;01mTrue\u001B[39;00m,\n\u001B[1;32m   1132\u001B[0m     y_numeric\u001B[38;5;241m=\u001B[39m\u001B[38;5;28;01mTrue\u001B[39;00m,\n\u001B[1;32m   1133\u001B[0m )\n\u001B[1;32m   1134\u001B[0m \u001B[38;5;28;01mreturn\u001B[39;00m \u001B[38;5;28msuper\u001B[39m()\u001B[38;5;241m.\u001B[39mfit(X, y, sample_weight\u001B[38;5;241m=\u001B[39msample_weight)\n",
      "File \u001B[0;32m/opt/miniconda3/envs/zPythonCondaEnv/lib/python3.11/site-packages/sklearn/base.py:584\u001B[0m, in \u001B[0;36mBaseEstimator._validate_data\u001B[0;34m(self, X, y, reset, validate_separately, **check_params)\u001B[0m\n\u001B[1;32m    582\u001B[0m         y \u001B[38;5;241m=\u001B[39m check_array(y, input_name\u001B[38;5;241m=\u001B[39m\u001B[38;5;124m\"\u001B[39m\u001B[38;5;124my\u001B[39m\u001B[38;5;124m\"\u001B[39m, \u001B[38;5;241m*\u001B[39m\u001B[38;5;241m*\u001B[39mcheck_y_params)\n\u001B[1;32m    583\u001B[0m     \u001B[38;5;28;01melse\u001B[39;00m:\n\u001B[0;32m--> 584\u001B[0m         X, y \u001B[38;5;241m=\u001B[39m check_X_y(X, y, \u001B[38;5;241m*\u001B[39m\u001B[38;5;241m*\u001B[39mcheck_params)\n\u001B[1;32m    585\u001B[0m     out \u001B[38;5;241m=\u001B[39m X, y\n\u001B[1;32m    587\u001B[0m \u001B[38;5;28;01mif\u001B[39;00m \u001B[38;5;129;01mnot\u001B[39;00m no_val_X \u001B[38;5;129;01mand\u001B[39;00m check_params\u001B[38;5;241m.\u001B[39mget(\u001B[38;5;124m\"\u001B[39m\u001B[38;5;124mensure_2d\u001B[39m\u001B[38;5;124m\"\u001B[39m, \u001B[38;5;28;01mTrue\u001B[39;00m):\n",
      "File \u001B[0;32m/opt/miniconda3/envs/zPythonCondaEnv/lib/python3.11/site-packages/sklearn/utils/validation.py:1124\u001B[0m, in \u001B[0;36mcheck_X_y\u001B[0;34m(X, y, accept_sparse, accept_large_sparse, dtype, order, copy, force_all_finite, ensure_2d, allow_nd, multi_output, ensure_min_samples, ensure_min_features, y_numeric, estimator)\u001B[0m\n\u001B[1;32m   1106\u001B[0m X \u001B[38;5;241m=\u001B[39m check_array(\n\u001B[1;32m   1107\u001B[0m     X,\n\u001B[1;32m   1108\u001B[0m     accept_sparse\u001B[38;5;241m=\u001B[39maccept_sparse,\n\u001B[0;32m   (...)\u001B[0m\n\u001B[1;32m   1119\u001B[0m     input_name\u001B[38;5;241m=\u001B[39m\u001B[38;5;124m\"\u001B[39m\u001B[38;5;124mX\u001B[39m\u001B[38;5;124m\"\u001B[39m,\n\u001B[1;32m   1120\u001B[0m )\n\u001B[1;32m   1122\u001B[0m y \u001B[38;5;241m=\u001B[39m _check_y(y, multi_output\u001B[38;5;241m=\u001B[39mmulti_output, y_numeric\u001B[38;5;241m=\u001B[39my_numeric, estimator\u001B[38;5;241m=\u001B[39mestimator)\n\u001B[0;32m-> 1124\u001B[0m check_consistent_length(X, y)\n\u001B[1;32m   1126\u001B[0m \u001B[38;5;28;01mreturn\u001B[39;00m X, y\n",
      "File \u001B[0;32m/opt/miniconda3/envs/zPythonCondaEnv/lib/python3.11/site-packages/sklearn/utils/validation.py:397\u001B[0m, in \u001B[0;36mcheck_consistent_length\u001B[0;34m(*arrays)\u001B[0m\n\u001B[1;32m    395\u001B[0m uniques \u001B[38;5;241m=\u001B[39m np\u001B[38;5;241m.\u001B[39munique(lengths)\n\u001B[1;32m    396\u001B[0m \u001B[38;5;28;01mif\u001B[39;00m \u001B[38;5;28mlen\u001B[39m(uniques) \u001B[38;5;241m>\u001B[39m \u001B[38;5;241m1\u001B[39m:\n\u001B[0;32m--> 397\u001B[0m     \u001B[38;5;28;01mraise\u001B[39;00m \u001B[38;5;167;01mValueError\u001B[39;00m(\n\u001B[1;32m    398\u001B[0m         \u001B[38;5;124m\"\u001B[39m\u001B[38;5;124mFound input variables with inconsistent numbers of samples: \u001B[39m\u001B[38;5;132;01m%r\u001B[39;00m\u001B[38;5;124m\"\u001B[39m\n\u001B[1;32m    399\u001B[0m         \u001B[38;5;241m%\u001B[39m [\u001B[38;5;28mint\u001B[39m(l) \u001B[38;5;28;01mfor\u001B[39;00m l \u001B[38;5;129;01min\u001B[39;00m lengths]\n\u001B[1;32m    400\u001B[0m     )\n",
      "\u001B[0;31mValueError\u001B[0m: Found input variables with inconsistent numbers of samples: [1000, 3000]"
     ]
    }
   ],
   "execution_count": 7
  },
  {
   "metadata": {},
   "cell_type": "markdown",
   "source": "3. Use SHAP to Explain Predictions\n",
   "id": "63bbda56206e2705"
  },
  {
   "metadata": {},
   "cell_type": "code",
   "source": "",
   "id": "bcdf321852432f75",
   "outputs": [],
   "execution_count": null
  },
  {
   "metadata": {},
   "cell_type": "code",
   "source": [
    "import shap\n",
    "\n",
    "# Convert the model to a format SHAP can use\n",
    "def pytorch_predict(data):\n",
    "    with torch.no_grad():\n",
    "        data = torch.tensor(data).float()\n",
    "        data = data.view(-1, 28*28)\n",
    "        return model(data).numpy()\n",
    "\n",
    "# Select a few test images for SHAP\n",
    "shap_test_images = images[:5].view(-1, 28*28).numpy()\n",
    "\n",
    "# Create a SHAP explainer\n",
    "explainer = shap.KernelExplainer(pytorch_predict, shap_test_images)\n",
    "\n",
    "# Calculate SHAP values for one image\n",
    "shap_values = explainer.shap_values(shap_test_images)\n",
    "\n",
    "# Plot SHAP values\n",
    "shap.image_plot(shap_values, shap_test_images.reshape(-1, 28, 28))\n"
   ],
   "id": "a88316750e90f6e4",
   "outputs": [],
   "execution_count": null
  },
  {
   "metadata": {
    "ExecuteTime": {
     "end_time": "2024-09-19T01:23:27.231145Z",
     "start_time": "2024-09-19T01:23:27.152370Z"
    }
   },
   "cell_type": "code",
   "source": [
    "import shap\n",
    "# since shuffle=True, this is a random sample of test data\n",
    "batch = next(iter(test_loader))\n",
    "images, _ = batch\n",
    "\n",
    "background = images[:100]\n",
    "test_images = images[100:103]\n",
    "\n",
    "e = shap.DeepExplainer(model, background)\n",
    "shap_values = e.shap_values(test_images)\n",
    "\n",
    "shap_numpy = list(np.transpose(shap_values, (4, 0, 2, 3, 1)))\n",
    "test_numpy = np.swapaxes(np.swapaxes(test_images.numpy(), 1, -1), 1, 2)\n",
    "# plot the feature attributions\n",
    "shap.image_plot(shap_numpy, test_numpy)"
   ],
   "id": "5f77cf02e32f8ca6",
   "outputs": [
    {
     "ename": "ValueError",
     "evalue": "Number of rows must be a positive integer, not 0",
     "output_type": "error",
     "traceback": [
      "\u001B[0;31m---------------------------------------------------------------------------\u001B[0m",
      "\u001B[0;31mValueError\u001B[0m                                Traceback (most recent call last)",
      "Cell \u001B[0;32mIn[12], line 15\u001B[0m\n\u001B[1;32m     13\u001B[0m test_numpy \u001B[38;5;241m=\u001B[39m np\u001B[38;5;241m.\u001B[39mswapaxes(np\u001B[38;5;241m.\u001B[39mswapaxes(test_images\u001B[38;5;241m.\u001B[39mnumpy(), \u001B[38;5;241m1\u001B[39m, \u001B[38;5;241m-\u001B[39m\u001B[38;5;241m1\u001B[39m), \u001B[38;5;241m1\u001B[39m, \u001B[38;5;241m2\u001B[39m)\n\u001B[1;32m     14\u001B[0m \u001B[38;5;66;03m# plot the feature attributions\u001B[39;00m\n\u001B[0;32m---> 15\u001B[0m shap\u001B[38;5;241m.\u001B[39mimage_plot(shap_numpy, test_numpy)\n",
      "File \u001B[0;32m/opt/miniconda3/envs/zPythonCondaEnv/lib/python3.11/site-packages/shap/plots/_image.py:122\u001B[0m, in \u001B[0;36mimage\u001B[0;34m(shap_values, pixel_values, labels, true_labels, width, aspect, hspace, labelpad, cmap, show)\u001B[0m\n\u001B[1;32m    120\u001B[0m \u001B[38;5;28;01mif\u001B[39;00m fig_size[\u001B[38;5;241m0\u001B[39m] \u001B[38;5;241m>\u001B[39m width:\n\u001B[1;32m    121\u001B[0m     fig_size \u001B[38;5;241m*\u001B[39m\u001B[38;5;241m=\u001B[39m width \u001B[38;5;241m/\u001B[39m fig_size[\u001B[38;5;241m0\u001B[39m]\n\u001B[0;32m--> 122\u001B[0m fig, axes \u001B[38;5;241m=\u001B[39m pl\u001B[38;5;241m.\u001B[39msubplots(nrows\u001B[38;5;241m=\u001B[39mx\u001B[38;5;241m.\u001B[39mshape[\u001B[38;5;241m0\u001B[39m], ncols\u001B[38;5;241m=\u001B[39m\u001B[38;5;28mlen\u001B[39m(shap_values) \u001B[38;5;241m+\u001B[39m \u001B[38;5;241m1\u001B[39m, figsize\u001B[38;5;241m=\u001B[39mfig_size)\n\u001B[1;32m    123\u001B[0m \u001B[38;5;28;01mif\u001B[39;00m \u001B[38;5;28mlen\u001B[39m(axes\u001B[38;5;241m.\u001B[39mshape) \u001B[38;5;241m==\u001B[39m \u001B[38;5;241m1\u001B[39m:\n\u001B[1;32m    124\u001B[0m     axes \u001B[38;5;241m=\u001B[39m axes\u001B[38;5;241m.\u001B[39mreshape(\u001B[38;5;241m1\u001B[39m, axes\u001B[38;5;241m.\u001B[39msize)\n",
      "File \u001B[0;32m/opt/miniconda3/envs/zPythonCondaEnv/lib/python3.11/site-packages/matplotlib/pyplot.py:1760\u001B[0m, in \u001B[0;36msubplots\u001B[0;34m(nrows, ncols, sharex, sharey, squeeze, width_ratios, height_ratios, subplot_kw, gridspec_kw, **fig_kw)\u001B[0m\n\u001B[1;32m   1615\u001B[0m \u001B[38;5;250m\u001B[39m\u001B[38;5;124;03m\"\"\"\u001B[39;00m\n\u001B[1;32m   1616\u001B[0m \u001B[38;5;124;03mCreate a figure and a set of subplots.\u001B[39;00m\n\u001B[1;32m   1617\u001B[0m \n\u001B[0;32m   (...)\u001B[0m\n\u001B[1;32m   1757\u001B[0m \n\u001B[1;32m   1758\u001B[0m \u001B[38;5;124;03m\"\"\"\u001B[39;00m\n\u001B[1;32m   1759\u001B[0m fig \u001B[38;5;241m=\u001B[39m figure(\u001B[38;5;241m*\u001B[39m\u001B[38;5;241m*\u001B[39mfig_kw)\n\u001B[0;32m-> 1760\u001B[0m axs \u001B[38;5;241m=\u001B[39m fig\u001B[38;5;241m.\u001B[39msubplots(nrows\u001B[38;5;241m=\u001B[39mnrows, ncols\u001B[38;5;241m=\u001B[39mncols, sharex\u001B[38;5;241m=\u001B[39msharex, sharey\u001B[38;5;241m=\u001B[39msharey,\n\u001B[1;32m   1761\u001B[0m                    squeeze\u001B[38;5;241m=\u001B[39msqueeze, subplot_kw\u001B[38;5;241m=\u001B[39msubplot_kw,\n\u001B[1;32m   1762\u001B[0m                    gridspec_kw\u001B[38;5;241m=\u001B[39mgridspec_kw, height_ratios\u001B[38;5;241m=\u001B[39mheight_ratios,\n\u001B[1;32m   1763\u001B[0m                    width_ratios\u001B[38;5;241m=\u001B[39mwidth_ratios)\n\u001B[1;32m   1764\u001B[0m \u001B[38;5;28;01mreturn\u001B[39;00m fig, axs\n",
      "File \u001B[0;32m/opt/miniconda3/envs/zPythonCondaEnv/lib/python3.11/site-packages/matplotlib/figure.py:860\u001B[0m, in \u001B[0;36mFigureBase.subplots\u001B[0;34m(self, nrows, ncols, sharex, sharey, squeeze, width_ratios, height_ratios, subplot_kw, gridspec_kw)\u001B[0m\n\u001B[1;32m    856\u001B[0m         \u001B[38;5;28;01mraise\u001B[39;00m \u001B[38;5;167;01mValueError\u001B[39;00m(\u001B[38;5;124m\"\u001B[39m\u001B[38;5;124m'\u001B[39m\u001B[38;5;124mwidth_ratios\u001B[39m\u001B[38;5;124m'\u001B[39m\u001B[38;5;124m must not be defined both as \u001B[39m\u001B[38;5;124m\"\u001B[39m\n\u001B[1;32m    857\u001B[0m                          \u001B[38;5;124m\"\u001B[39m\u001B[38;5;124mparameter and as key in \u001B[39m\u001B[38;5;124m'\u001B[39m\u001B[38;5;124mgridspec_kw\u001B[39m\u001B[38;5;124m'\u001B[39m\u001B[38;5;124m\"\u001B[39m)\n\u001B[1;32m    858\u001B[0m     gridspec_kw[\u001B[38;5;124m'\u001B[39m\u001B[38;5;124mwidth_ratios\u001B[39m\u001B[38;5;124m'\u001B[39m] \u001B[38;5;241m=\u001B[39m width_ratios\n\u001B[0;32m--> 860\u001B[0m gs \u001B[38;5;241m=\u001B[39m \u001B[38;5;28mself\u001B[39m\u001B[38;5;241m.\u001B[39madd_gridspec(nrows, ncols, figure\u001B[38;5;241m=\u001B[39m\u001B[38;5;28mself\u001B[39m, \u001B[38;5;241m*\u001B[39m\u001B[38;5;241m*\u001B[39mgridspec_kw)\n\u001B[1;32m    861\u001B[0m axs \u001B[38;5;241m=\u001B[39m gs\u001B[38;5;241m.\u001B[39msubplots(sharex\u001B[38;5;241m=\u001B[39msharex, sharey\u001B[38;5;241m=\u001B[39msharey, squeeze\u001B[38;5;241m=\u001B[39msqueeze,\n\u001B[1;32m    862\u001B[0m                   subplot_kw\u001B[38;5;241m=\u001B[39msubplot_kw)\n\u001B[1;32m    863\u001B[0m \u001B[38;5;28;01mreturn\u001B[39;00m axs\n",
      "File \u001B[0;32m/opt/miniconda3/envs/zPythonCondaEnv/lib/python3.11/site-packages/matplotlib/figure.py:1538\u001B[0m, in \u001B[0;36mFigureBase.add_gridspec\u001B[0;34m(self, nrows, ncols, **kwargs)\u001B[0m\n\u001B[1;32m   1495\u001B[0m \u001B[38;5;250m\u001B[39m\u001B[38;5;124;03m\"\"\"\u001B[39;00m\n\u001B[1;32m   1496\u001B[0m \u001B[38;5;124;03mLow-level API for creating a `.GridSpec` that has this figure as a parent.\u001B[39;00m\n\u001B[1;32m   1497\u001B[0m \n\u001B[0;32m   (...)\u001B[0m\n\u001B[1;32m   1534\u001B[0m \n\u001B[1;32m   1535\u001B[0m \u001B[38;5;124;03m\"\"\"\u001B[39;00m\n\u001B[1;32m   1537\u001B[0m _ \u001B[38;5;241m=\u001B[39m kwargs\u001B[38;5;241m.\u001B[39mpop(\u001B[38;5;124m'\u001B[39m\u001B[38;5;124mfigure\u001B[39m\u001B[38;5;124m'\u001B[39m, \u001B[38;5;28;01mNone\u001B[39;00m)  \u001B[38;5;66;03m# pop in case user has added this...\u001B[39;00m\n\u001B[0;32m-> 1538\u001B[0m gs \u001B[38;5;241m=\u001B[39m GridSpec(nrows\u001B[38;5;241m=\u001B[39mnrows, ncols\u001B[38;5;241m=\u001B[39mncols, figure\u001B[38;5;241m=\u001B[39m\u001B[38;5;28mself\u001B[39m, \u001B[38;5;241m*\u001B[39m\u001B[38;5;241m*\u001B[39mkwargs)\n\u001B[1;32m   1539\u001B[0m \u001B[38;5;28;01mreturn\u001B[39;00m gs\n",
      "File \u001B[0;32m/opt/miniconda3/envs/zPythonCondaEnv/lib/python3.11/site-packages/matplotlib/gridspec.py:363\u001B[0m, in \u001B[0;36mGridSpec.__init__\u001B[0;34m(self, nrows, ncols, figure, left, bottom, right, top, wspace, hspace, width_ratios, height_ratios)\u001B[0m\n\u001B[1;32m    360\u001B[0m \u001B[38;5;28mself\u001B[39m\u001B[38;5;241m.\u001B[39mhspace \u001B[38;5;241m=\u001B[39m hspace\n\u001B[1;32m    361\u001B[0m \u001B[38;5;28mself\u001B[39m\u001B[38;5;241m.\u001B[39mfigure \u001B[38;5;241m=\u001B[39m figure\n\u001B[0;32m--> 363\u001B[0m \u001B[38;5;28msuper\u001B[39m()\u001B[38;5;241m.\u001B[39m\u001B[38;5;21m__init__\u001B[39m(nrows, ncols,\n\u001B[1;32m    364\u001B[0m                  width_ratios\u001B[38;5;241m=\u001B[39mwidth_ratios,\n\u001B[1;32m    365\u001B[0m                  height_ratios\u001B[38;5;241m=\u001B[39mheight_ratios)\n",
      "File \u001B[0;32m/opt/miniconda3/envs/zPythonCondaEnv/lib/python3.11/site-packages/matplotlib/gridspec.py:48\u001B[0m, in \u001B[0;36mGridSpecBase.__init__\u001B[0;34m(self, nrows, ncols, height_ratios, width_ratios)\u001B[0m\n\u001B[1;32m     33\u001B[0m \u001B[38;5;250m\u001B[39m\u001B[38;5;124;03m\"\"\"\u001B[39;00m\n\u001B[1;32m     34\u001B[0m \u001B[38;5;124;03mParameters\u001B[39;00m\n\u001B[1;32m     35\u001B[0m \u001B[38;5;124;03m----------\u001B[39;00m\n\u001B[0;32m   (...)\u001B[0m\n\u001B[1;32m     45\u001B[0m \u001B[38;5;124;03m    If not given, all rows will have the same height.\u001B[39;00m\n\u001B[1;32m     46\u001B[0m \u001B[38;5;124;03m\"\"\"\u001B[39;00m\n\u001B[1;32m     47\u001B[0m \u001B[38;5;28;01mif\u001B[39;00m \u001B[38;5;129;01mnot\u001B[39;00m \u001B[38;5;28misinstance\u001B[39m(nrows, Integral) \u001B[38;5;129;01mor\u001B[39;00m nrows \u001B[38;5;241m<\u001B[39m\u001B[38;5;241m=\u001B[39m \u001B[38;5;241m0\u001B[39m:\n\u001B[0;32m---> 48\u001B[0m     \u001B[38;5;28;01mraise\u001B[39;00m \u001B[38;5;167;01mValueError\u001B[39;00m(\n\u001B[1;32m     49\u001B[0m         \u001B[38;5;124mf\u001B[39m\u001B[38;5;124m\"\u001B[39m\u001B[38;5;124mNumber of rows must be a positive integer, not \u001B[39m\u001B[38;5;132;01m{\u001B[39;00mnrows\u001B[38;5;132;01m!r}\u001B[39;00m\u001B[38;5;124m\"\u001B[39m)\n\u001B[1;32m     50\u001B[0m \u001B[38;5;28;01mif\u001B[39;00m \u001B[38;5;129;01mnot\u001B[39;00m \u001B[38;5;28misinstance\u001B[39m(ncols, Integral) \u001B[38;5;129;01mor\u001B[39;00m ncols \u001B[38;5;241m<\u001B[39m\u001B[38;5;241m=\u001B[39m \u001B[38;5;241m0\u001B[39m:\n\u001B[1;32m     51\u001B[0m     \u001B[38;5;28;01mraise\u001B[39;00m \u001B[38;5;167;01mValueError\u001B[39;00m(\n\u001B[1;32m     52\u001B[0m         \u001B[38;5;124mf\u001B[39m\u001B[38;5;124m\"\u001B[39m\u001B[38;5;124mNumber of columns must be a positive integer, not \u001B[39m\u001B[38;5;132;01m{\u001B[39;00mncols\u001B[38;5;132;01m!r}\u001B[39;00m\u001B[38;5;124m\"\u001B[39m)\n",
      "\u001B[0;31mValueError\u001B[0m: Number of rows must be a positive integer, not 0"
     ]
    },
    {
     "data": {
      "text/plain": [
       "<Figure size 2000x57.4713 with 0 Axes>"
      ]
     },
     "metadata": {},
     "output_type": "display_data"
    }
   ],
   "execution_count": 12
  }
 ],
 "metadata": {
  "kernelspec": {
   "display_name": "Python 3",
   "language": "python",
   "name": "python3"
  },
  "language_info": {
   "codemirror_mode": {
    "name": "ipython",
    "version": 2
   },
   "file_extension": ".py",
   "mimetype": "text/x-python",
   "name": "python",
   "nbconvert_exporter": "python",
   "pygments_lexer": "ipython2",
   "version": "2.7.6"
  }
 },
 "nbformat": 4,
 "nbformat_minor": 5
}
