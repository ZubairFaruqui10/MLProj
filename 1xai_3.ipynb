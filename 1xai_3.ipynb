{
 "cells": [
  {
   "metadata": {},
   "cell_type": "markdown",
   "source": [
    "Let's implement the entire process using PyTorch. We'll load the MNIST dataset, train a fully connected neural network, and explain the predictions using both LIME and SHAP.\n",
    "\n",
    "1. Load the MNIST Dataset and Train a Fully Connected Neural Network\n",
    "Step 1: Load the MNIST Dataset"
   ],
   "id": "72994c862483fb7a"
  },
  {
   "metadata": {
    "ExecuteTime": {
     "end_time": "2024-09-19T00:14:50.864434Z",
     "start_time": "2024-09-19T00:14:10.584065Z"
    }
   },
   "cell_type": "code",
   "source": [
    "import torch\n",
    "import torch.nn as nn\n",
    "import torch.optim as optim\n",
    "from torchvision import datasets, transforms\n",
    "from torch.utils.data import DataLoader\n",
    "\n",
    "# Define a transform to normalize the data\n",
    "transform = transforms.Compose([transforms.ToTensor(), transforms.Normalize((0.5,), (0.5,))])\n",
    "\n",
    "# Load the MNIST dataset\n",
    "train_data = datasets.MNIST(root='./data', train=True, download=True, transform=transform)\n",
    "test_data = datasets.MNIST(root='./data', train=False, download=True, transform=transform)\n",
    "\n",
    "# DataLoaders for batching\n",
    "train_loader = DataLoader(train_data, batch_size=64, shuffle=True)\n",
    "test_loader = DataLoader(test_data, batch_size=64, shuffle=False)\n"
   ],
   "id": "cb0ca1be388bcb47",
   "outputs": [
    {
     "name": "stdout",
     "output_type": "stream",
     "text": [
      "Downloading http://yann.lecun.com/exdb/mnist/train-images-idx3-ubyte.gz\n",
      "Failed to download (trying next):\n",
      "HTTP Error 403: Forbidden\n",
      "\n",
      "Downloading https://ossci-datasets.s3.amazonaws.com/mnist/train-images-idx3-ubyte.gz\n",
      "Downloading https://ossci-datasets.s3.amazonaws.com/mnist/train-images-idx3-ubyte.gz to ./data/MNIST/raw/train-images-idx3-ubyte.gz\n"
     ]
    },
    {
     "name": "stderr",
     "output_type": "stream",
     "text": [
      "100.0%\n"
     ]
    },
    {
     "name": "stdout",
     "output_type": "stream",
     "text": [
      "Extracting ./data/MNIST/raw/train-images-idx3-ubyte.gz to ./data/MNIST/raw\n",
      "\n",
      "Downloading http://yann.lecun.com/exdb/mnist/train-labels-idx1-ubyte.gz\n",
      "Failed to download (trying next):\n",
      "HTTP Error 403: Forbidden\n",
      "\n",
      "Downloading https://ossci-datasets.s3.amazonaws.com/mnist/train-labels-idx1-ubyte.gz\n",
      "Downloading https://ossci-datasets.s3.amazonaws.com/mnist/train-labels-idx1-ubyte.gz to ./data/MNIST/raw/train-labels-idx1-ubyte.gz\n"
     ]
    },
    {
     "name": "stderr",
     "output_type": "stream",
     "text": [
      "100.0%\n"
     ]
    },
    {
     "name": "stdout",
     "output_type": "stream",
     "text": [
      "Extracting ./data/MNIST/raw/train-labels-idx1-ubyte.gz to ./data/MNIST/raw\n",
      "\n",
      "Downloading http://yann.lecun.com/exdb/mnist/t10k-images-idx3-ubyte.gz\n",
      "Failed to download (trying next):\n",
      "HTTP Error 403: Forbidden\n",
      "\n",
      "Downloading https://ossci-datasets.s3.amazonaws.com/mnist/t10k-images-idx3-ubyte.gz\n",
      "Downloading https://ossci-datasets.s3.amazonaws.com/mnist/t10k-images-idx3-ubyte.gz to ./data/MNIST/raw/t10k-images-idx3-ubyte.gz\n"
     ]
    },
    {
     "name": "stderr",
     "output_type": "stream",
     "text": [
      "100.0%\n"
     ]
    },
    {
     "name": "stdout",
     "output_type": "stream",
     "text": [
      "Extracting ./data/MNIST/raw/t10k-images-idx3-ubyte.gz to ./data/MNIST/raw\n",
      "\n",
      "Downloading http://yann.lecun.com/exdb/mnist/t10k-labels-idx1-ubyte.gz\n",
      "Failed to download (trying next):\n",
      "HTTP Error 403: Forbidden\n",
      "\n",
      "Downloading https://ossci-datasets.s3.amazonaws.com/mnist/t10k-labels-idx1-ubyte.gz\n",
      "Downloading https://ossci-datasets.s3.amazonaws.com/mnist/t10k-labels-idx1-ubyte.gz to ./data/MNIST/raw/t10k-labels-idx1-ubyte.gz\n"
     ]
    },
    {
     "name": "stderr",
     "output_type": "stream",
     "text": [
      "100.0%"
     ]
    },
    {
     "name": "stdout",
     "output_type": "stream",
     "text": [
      "Extracting ./data/MNIST/raw/t10k-labels-idx1-ubyte.gz to ./data/MNIST/raw\n",
      "\n"
     ]
    },
    {
     "name": "stderr",
     "output_type": "stream",
     "text": [
      "\n"
     ]
    }
   ],
   "execution_count": 1
  },
  {
   "metadata": {},
   "cell_type": "markdown",
   "source": "Step 2: Build a Fully Connected Neural Network\n",
   "id": "1e9b4edd6547150f"
  },
  {
   "metadata": {
    "ExecuteTime": {
     "end_time": "2024-09-19T00:15:38.470881Z",
     "start_time": "2024-09-19T00:14:50.919170Z"
    }
   },
   "cell_type": "code",
   "source": [
    "# Define the model\n",
    "class NeuralNet(nn.Module):\n",
    "    def __init__(self):\n",
    "        super(NeuralNet, self).__init__()\n",
    "        self.fc1 = nn.Linear(28*28, 128)\n",
    "        self.fc2 = nn.Linear(128, 64)\n",
    "        self.fc3 = nn.Linear(64, 10)\n",
    "        self.softmax = nn.LogSoftmax(dim=1)  # LogSoftmax for classification\n",
    "\n",
    "    def forward(self, x):\n",
    "        x = x.reshape(-1, 28*28)  # Flatten the image\n",
    "        x = torch.relu(self.fc1(x))\n",
    "        x = torch.relu(self.fc2(x))\n",
    "        x = self.fc3(x)\n",
    "        x = self.softmax(x)  # Apply log softmax to output probabilities\n",
    "        return x\n",
    "\n",
    "# Initialize the model, loss function, and optimizer\n",
    "model = NeuralNet()\n",
    "criterion = nn.NLLLoss()  # Use NLLLoss since LogSoftmax is applied in the model\n",
    "optimizer = optim.Adam(model.parameters(), lr=0.001)\n",
    "\n",
    "# Training loop\n",
    "epochs = 5\n",
    "for epoch in range(epochs):\n",
    "    running_loss = 0\n",
    "    for images, labels in train_loader:\n",
    "        # Zero gradients\n",
    "        optimizer.zero_grad()\n",
    "\n",
    "        # Forward pass\n",
    "        outputs = model(images)\n",
    "        loss = criterion(outputs, labels)\n",
    "\n",
    "        # Backward pass and optimization\n",
    "        loss.backward()\n",
    "        optimizer.step()\n",
    "\n",
    "        running_loss += loss.item()\n",
    "\n",
    "    print(f\"Epoch [{epoch+1}/{epochs}], Loss: {running_loss/len(train_loader):.4f}\")\n"
   ],
   "id": "f28df819fff964df",
   "outputs": [
    {
     "name": "stdout",
     "output_type": "stream",
     "text": [
      "Epoch [1/5], Loss: 0.4130\n",
      "Epoch [2/5], Loss: 0.2057\n",
      "Epoch [3/5], Loss: 0.1490\n",
      "Epoch [4/5], Loss: 0.1218\n",
      "Epoch [5/5], Loss: 0.1034\n"
     ]
    }
   ],
   "execution_count": 2
  },
  {
   "metadata": {},
   "cell_type": "markdown",
   "source": "",
   "id": "2cf6604b3219cd2d"
  },
  {
   "metadata": {},
   "cell_type": "markdown",
   "source": "2. Select Test Images and Use LIME to Explain Predictions\n",
   "id": "e7ade52953ad501e"
  },
  {
   "metadata": {
    "ExecuteTime": {
     "end_time": "2024-09-19T00:31:52.733295Z",
     "start_time": "2024-09-19T00:22:25.177161Z"
    }
   },
   "cell_type": "code",
   "source": [
    "import matplotlib.pyplot as plt\n",
    "from lime import lime_image\n",
    "from skimage.segmentation import mark_boundaries\n",
    "from torch.autograd import Variable\n",
    "import torch\n",
    "import numpy as np\n",
    "\n",
    "# Function to predict using the PyTorch model\n",
    "import torch\n",
    "import torch.nn.functional as F\n",
    "\n",
    "# Function to predict using the PyTorch model\n",
    "def predict(images):\n",
    "    # Convert images to PyTorch tensor, and reshape to (batch_size, channels, height, width)\n",
    "    images = torch.Tensor(images).permute(0, 3, 1, 2)  # Convert (batch_size, height, width, 3) to (batch_size, 3, height, width)\n",
    "    images = images / 255.0  # Normalize the images to [0, 1]\n",
    "\n",
    "    # Pass the images through the model and get predictions (logits)\n",
    "    with torch.no_grad():\n",
    "        outputs = model(images)  # Outputs shape: (batch_size, num_classes)\n",
    "    \n",
    "    # Apply softmax to convert logits to probabilities\n",
    "    probs = torch.exp(outputs)\n",
    "\n",
    "    print(f\"Number of images: {images.shape[0]}\")  # Should be 10 for LIME's input\n",
    "    print(f\"Number of predictions (probabilities): {probs.shape[0]}\")  # Should be 10\n",
    "\n",
    "    return probs.detach().cpu().numpy()  # Return the probabilities for each class\n",
    "\n",
    "\n",
    "\n",
    "# Function to convert grayscale image (1 channel) to RGB (3 channels)\n",
    "def grayscale_to_rgb(image):\n",
    "    \"\"\"\n",
    "    Convert a grayscale image of shape (28, 28, 1) to RGB of shape (28, 28, 3).\n",
    "    \"\"\"\n",
    "    if image.shape[-1] == 1:\n",
    "        image = np.squeeze(image, axis=-1)  # Remove the last dimension if it’s (28, 28, 1)\n",
    "    return np.stack((image,) * 3, axis=-1)  # Stack grayscale into 3 channels (RGB)\n",
    "\n",
    "# Select test images\n",
    "dataiter = iter(test_loader)\n",
    "images, labels = next(dataiter)  # Use next() to get the batch of images and labels\n",
    "\n",
    "# Take a few test images\n",
    "test_images = images[:5]\n",
    "test_labels = labels[:5]\n",
    "\n",
    "# Create a LIME explainer\n",
    "explainer = lime_image.LimeImageExplainer()\n",
    "\n",
    "# Explain a single image\n",
    "i = 0  # Index of the image to explain\n",
    "image = test_images[i].numpy().transpose(1, 2, 0)  # Convert PyTorch tensor to numpy array and reshape to (28, 28, 1)\n",
    "\n",
    "# Fix the shape by squeezing if necessary, then convert to RGB\n",
    "image_rgb = grayscale_to_rgb(image)  # Convert the grayscale image to RGB (shape should be (28, 28, 3))\n",
    "\n",
    "# Check the shape to ensure it's correct before passing to LIME\n",
    "print(\"Image RGB shape:\", image_rgb.shape)  # Should output (28, 28, 3)\n",
    "\n",
    "# Generate the explanation using LIME\n",
    "explanation = explainer.explain_instance(image_rgb, predict, top_labels=1, hide_color=0, num_samples=1000)\n",
    "\n",
    "# Visualize the LIME explanation\n",
    "temp, mask = explanation.get_image_and_mask(explanation.top_labels[0], positive_only=True, num_features=5, hide_rest=False)\n",
    "plt.imshow(mark_boundaries(temp / 2 + 0.5, mask))\n",
    "plt.title(f\"LIME Explanation for Test Image {i}\")\n",
    "plt.show()\n"
   ],
   "id": "16dd85ce4c5cf108",
   "outputs": [
    {
     "name": "stdout",
     "output_type": "stream",
     "text": [
      "Image RGB shape: (28, 28, 3)\n"
     ]
    },
    {
     "ename": "KeyboardInterrupt",
     "evalue": "",
     "output_type": "error",
     "traceback": [
      "\u001B[0;31m---------------------------------------------------------------------------\u001B[0m",
      "\u001B[0;31mKeyboardInterrupt\u001B[0m                         Traceback (most recent call last)",
      "Cell \u001B[0;32mIn[5], line 63\u001B[0m\n\u001B[1;32m     60\u001B[0m \u001B[38;5;28mprint\u001B[39m(\u001B[38;5;124m\"\u001B[39m\u001B[38;5;124mImage RGB shape:\u001B[39m\u001B[38;5;124m\"\u001B[39m, image_rgb\u001B[38;5;241m.\u001B[39mshape)  \u001B[38;5;66;03m# Should output (28, 28, 3)\u001B[39;00m\n\u001B[1;32m     62\u001B[0m \u001B[38;5;66;03m# Generate the explanation using LIME\u001B[39;00m\n\u001B[0;32m---> 63\u001B[0m explanation \u001B[38;5;241m=\u001B[39m explainer\u001B[38;5;241m.\u001B[39mexplain_instance(image_rgb, predict, top_labels\u001B[38;5;241m=\u001B[39m\u001B[38;5;241m1\u001B[39m, hide_color\u001B[38;5;241m=\u001B[39m\u001B[38;5;241m0\u001B[39m, num_samples\u001B[38;5;241m=\u001B[39m\u001B[38;5;241m1000\u001B[39m)\n\u001B[1;32m     65\u001B[0m \u001B[38;5;66;03m# Visualize the LIME explanation\u001B[39;00m\n\u001B[1;32m     66\u001B[0m temp, mask \u001B[38;5;241m=\u001B[39m explanation\u001B[38;5;241m.\u001B[39mget_image_and_mask(explanation\u001B[38;5;241m.\u001B[39mtop_labels[\u001B[38;5;241m0\u001B[39m], positive_only\u001B[38;5;241m=\u001B[39m\u001B[38;5;28;01mTrue\u001B[39;00m, num_features\u001B[38;5;241m=\u001B[39m\u001B[38;5;241m5\u001B[39m, hide_rest\u001B[38;5;241m=\u001B[39m\u001B[38;5;28;01mFalse\u001B[39;00m)\n",
      "File \u001B[0;32m/opt/miniconda3/envs/zPythonCondaEnv/lib/python3.11/site-packages/lime/lime_image.py:182\u001B[0m, in \u001B[0;36mLimeImageExplainer.explain_instance\u001B[0;34m(self, image, classifier_fn, labels, hide_color, top_labels, num_features, num_samples, batch_size, segmentation_fn, distance_metric, model_regressor, random_seed)\u001B[0m\n\u001B[1;32m    178\u001B[0m     segmentation_fn \u001B[38;5;241m=\u001B[39m SegmentationAlgorithm(\u001B[38;5;124m'\u001B[39m\u001B[38;5;124mquickshift\u001B[39m\u001B[38;5;124m'\u001B[39m, kernel_size\u001B[38;5;241m=\u001B[39m\u001B[38;5;241m4\u001B[39m,\n\u001B[1;32m    179\u001B[0m                                             max_dist\u001B[38;5;241m=\u001B[39m\u001B[38;5;241m200\u001B[39m, ratio\u001B[38;5;241m=\u001B[39m\u001B[38;5;241m0.2\u001B[39m,\n\u001B[1;32m    180\u001B[0m                                             random_seed\u001B[38;5;241m=\u001B[39mrandom_seed)\n\u001B[1;32m    181\u001B[0m \u001B[38;5;28;01mtry\u001B[39;00m:\n\u001B[0;32m--> 182\u001B[0m     segments \u001B[38;5;241m=\u001B[39m segmentation_fn(image)\n\u001B[1;32m    183\u001B[0m \u001B[38;5;28;01mexcept\u001B[39;00m \u001B[38;5;167;01mValueError\u001B[39;00m \u001B[38;5;28;01mas\u001B[39;00m e:\n\u001B[1;32m    184\u001B[0m     \u001B[38;5;28;01mraise\u001B[39;00m e\n",
      "File \u001B[0;32m/opt/miniconda3/envs/zPythonCondaEnv/lib/python3.11/site-packages/lime/wrappers/scikit_image.py:117\u001B[0m, in \u001B[0;36mSegmentationAlgorithm.__call__\u001B[0;34m(self, *args)\u001B[0m\n\u001B[1;32m    116\u001B[0m \u001B[38;5;28;01mdef\u001B[39;00m \u001B[38;5;21m__call__\u001B[39m(\u001B[38;5;28mself\u001B[39m, \u001B[38;5;241m*\u001B[39margs):\n\u001B[0;32m--> 117\u001B[0m     \u001B[38;5;28;01mreturn\u001B[39;00m \u001B[38;5;28mself\u001B[39m\u001B[38;5;241m.\u001B[39mtarget_fn(args[\u001B[38;5;241m0\u001B[39m], \u001B[38;5;241m*\u001B[39m\u001B[38;5;241m*\u001B[39m\u001B[38;5;28mself\u001B[39m\u001B[38;5;241m.\u001B[39mtarget_params)\n",
      "File \u001B[0;32m/opt/miniconda3/envs/zPythonCondaEnv/lib/python3.11/site-packages/skimage/segmentation/_quickshift.py:97\u001B[0m, in \u001B[0;36mquickshift\u001B[0;34m(image, ratio, kernel_size, max_dist, return_tree, sigma, convert2lab, rng, channel_axis)\u001B[0m\n\u001B[1;32m     94\u001B[0m image \u001B[38;5;241m=\u001B[39m gaussian(image, sigma\u001B[38;5;241m=\u001B[39m[sigma, sigma, \u001B[38;5;241m0\u001B[39m], mode\u001B[38;5;241m=\u001B[39m\u001B[38;5;124m'\u001B[39m\u001B[38;5;124mreflect\u001B[39m\u001B[38;5;124m'\u001B[39m, channel_axis\u001B[38;5;241m=\u001B[39m\u001B[38;5;241m-\u001B[39m\u001B[38;5;241m1\u001B[39m)\n\u001B[1;32m     95\u001B[0m image \u001B[38;5;241m=\u001B[39m np\u001B[38;5;241m.\u001B[39mascontiguousarray(image \u001B[38;5;241m*\u001B[39m ratio)\n\u001B[0;32m---> 97\u001B[0m segment_mask \u001B[38;5;241m=\u001B[39m _quickshift_cython(\n\u001B[1;32m     98\u001B[0m     image,\n\u001B[1;32m     99\u001B[0m     kernel_size\u001B[38;5;241m=\u001B[39mkernel_size,\n\u001B[1;32m    100\u001B[0m     max_dist\u001B[38;5;241m=\u001B[39mmax_dist,\n\u001B[1;32m    101\u001B[0m     return_tree\u001B[38;5;241m=\u001B[39mreturn_tree,\n\u001B[1;32m    102\u001B[0m     rng\u001B[38;5;241m=\u001B[39mrng,\n\u001B[1;32m    103\u001B[0m )\n\u001B[1;32m    104\u001B[0m \u001B[38;5;28;01mreturn\u001B[39;00m segment_mask\n",
      "File \u001B[0;32m_quickshift_cy.pyx:49\u001B[0m, in \u001B[0;36mskimage.segmentation._quickshift_cy._quickshift_cython\u001B[0;34m()\u001B[0m\n",
      "File \u001B[0;32m_generator.pyx:4849\u001B[0m, in \u001B[0;36mnumpy.random._generator.default_rng\u001B[0;34m()\u001B[0m\n",
      "File \u001B[0;32m_pcg64.pyx:130\u001B[0m, in \u001B[0;36mnumpy.random._pcg64.PCG64.__init__\u001B[0;34m()\u001B[0m\n",
      "File \u001B[0;32m/opt/miniconda3/envs/zPythonCondaEnv/lib/python3.11/contextlib.py:78\u001B[0m, in \u001B[0;36mContextDecorator.__call__.<locals>.inner\u001B[0;34m(*args, **kwds)\u001B[0m\n\u001B[1;32m     77\u001B[0m \u001B[38;5;28;01mdef\u001B[39;00m \u001B[38;5;21m__call__\u001B[39m(\u001B[38;5;28mself\u001B[39m, func):\n\u001B[0;32m---> 78\u001B[0m     \u001B[38;5;129m@wraps\u001B[39m(func)\n\u001B[1;32m     79\u001B[0m     \u001B[38;5;28;01mdef\u001B[39;00m \u001B[38;5;21minner\u001B[39m(\u001B[38;5;241m*\u001B[39margs, \u001B[38;5;241m*\u001B[39m\u001B[38;5;241m*\u001B[39mkwds):\n\u001B[1;32m     80\u001B[0m         \u001B[38;5;28;01mwith\u001B[39;00m \u001B[38;5;28mself\u001B[39m\u001B[38;5;241m.\u001B[39m_recreate_cm():\n\u001B[1;32m     81\u001B[0m             \u001B[38;5;28;01mreturn\u001B[39;00m func(\u001B[38;5;241m*\u001B[39margs, \u001B[38;5;241m*\u001B[39m\u001B[38;5;241m*\u001B[39mkwds)\n",
      "\u001B[0;31mKeyboardInterrupt\u001B[0m: "
     ]
    }
   ],
   "execution_count": 5
  },
  {
   "metadata": {},
   "cell_type": "markdown",
   "source": "3. Use SHAP to Explain Predictions\n",
   "id": "63bbda56206e2705"
  },
  {
   "metadata": {},
   "cell_type": "code",
   "source": "",
   "id": "bcdf321852432f75",
   "outputs": [],
   "execution_count": null
  },
  {
   "metadata": {},
   "cell_type": "code",
   "source": [
    "import shap\n",
    "\n",
    "# Convert the model to a format SHAP can use\n",
    "def pytorch_predict(data):\n",
    "    with torch.no_grad():\n",
    "        data = torch.tensor(data).float()\n",
    "        data = data.view(-1, 28*28)\n",
    "        return model(data).numpy()\n",
    "\n",
    "# Select a few test images for SHAP\n",
    "shap_test_images = images[:5].view(-1, 28*28).numpy()\n",
    "\n",
    "# Create a SHAP explainer\n",
    "explainer = shap.KernelExplainer(pytorch_predict, shap_test_images)\n",
    "\n",
    "# Calculate SHAP values for one image\n",
    "shap_values = explainer.shap_values(shap_test_images)\n",
    "\n",
    "# Plot SHAP values\n",
    "shap.image_plot(shap_values, shap_test_images.reshape(-1, 28, 28))\n"
   ],
   "id": "a88316750e90f6e4",
   "outputs": [],
   "execution_count": null
  }
 ],
 "metadata": {
  "kernelspec": {
   "display_name": "Python 3",
   "language": "python",
   "name": "python3"
  },
  "language_info": {
   "codemirror_mode": {
    "name": "ipython",
    "version": 2
   },
   "file_extension": ".py",
   "mimetype": "text/x-python",
   "name": "python",
   "nbconvert_exporter": "python",
   "pygments_lexer": "ipython2",
   "version": "2.7.6"
  }
 },
 "nbformat": 4,
 "nbformat_minor": 5
}
