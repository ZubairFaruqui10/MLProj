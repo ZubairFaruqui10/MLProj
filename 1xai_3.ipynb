{
 "cells": [
  {
   "metadata": {},
   "cell_type": "markdown",
   "source": [
    "Let's implement the entire process using PyTorch. We'll load the MNIST dataset, train a fully connected neural network, and explain the predictions using both LIME and SHAP.\n",
    "\n",
    "1. Load the MNIST Dataset and Train a Fully Connected Neural Network\n",
    "Step 1: Load the MNIST Dataset"
   ],
   "id": "72994c862483fb7a"
  },
  {
   "metadata": {
    "ExecuteTime": {
     "end_time": "2024-09-18T20:57:24.729058Z",
     "start_time": "2024-09-18T20:57:20.535331Z"
    }
   },
   "cell_type": "code",
   "source": [
    "import torch\n",
    "import torch.nn as nn\n",
    "import torch.optim as optim\n",
    "from torchvision import datasets, transforms\n",
    "from torch.utils.data import DataLoader\n",
    "\n",
    "# Define a transform to normalize the data\n",
    "transform = transforms.Compose([transforms.ToTensor(), transforms.Normalize((0.5,), (0.5,))])\n",
    "\n",
    "# Load the MNIST dataset\n",
    "train_data = datasets.MNIST(root='./data', train=True, download=True, transform=transform)\n",
    "test_data = datasets.MNIST(root='./data', train=False, download=True, transform=transform)\n",
    "\n",
    "# DataLoaders for batching\n",
    "train_loader = DataLoader(train_data, batch_size=64, shuffle=True)\n",
    "test_loader = DataLoader(test_data, batch_size=64, shuffle=False)\n"
   ],
   "id": "cb0ca1be388bcb47",
   "outputs": [
    {
     "name": "stdout",
     "output_type": "stream",
     "text": [
      "Downloading http://yann.lecun.com/exdb/mnist/train-images-idx3-ubyte.gz\n",
      "Failed to download (trying next):\n",
      "HTTP Error 403: Forbidden\n",
      "\n",
      "Downloading https://ossci-datasets.s3.amazonaws.com/mnist/train-images-idx3-ubyte.gz\n",
      "Downloading https://ossci-datasets.s3.amazonaws.com/mnist/train-images-idx3-ubyte.gz to ./data/MNIST/raw/train-images-idx3-ubyte.gz\n"
     ]
    },
    {
     "name": "stderr",
     "output_type": "stream",
     "text": [
      "100%|██████████| 9912422/9912422 [00:00<00:00, 23467411.62it/s]\n"
     ]
    },
    {
     "name": "stdout",
     "output_type": "stream",
     "text": [
      "Extracting ./data/MNIST/raw/train-images-idx3-ubyte.gz to ./data/MNIST/raw\n",
      "\n",
      "Downloading http://yann.lecun.com/exdb/mnist/train-labels-idx1-ubyte.gz\n",
      "Failed to download (trying next):\n",
      "HTTP Error 403: Forbidden\n",
      "\n",
      "Downloading https://ossci-datasets.s3.amazonaws.com/mnist/train-labels-idx1-ubyte.gz\n",
      "Downloading https://ossci-datasets.s3.amazonaws.com/mnist/train-labels-idx1-ubyte.gz to ./data/MNIST/raw/train-labels-idx1-ubyte.gz\n"
     ]
    },
    {
     "name": "stderr",
     "output_type": "stream",
     "text": [
      "100%|██████████| 28881/28881 [00:00<00:00, 742230.29it/s]\n"
     ]
    },
    {
     "name": "stdout",
     "output_type": "stream",
     "text": [
      "Extracting ./data/MNIST/raw/train-labels-idx1-ubyte.gz to ./data/MNIST/raw\n",
      "\n",
      "Downloading http://yann.lecun.com/exdb/mnist/t10k-images-idx3-ubyte.gz\n",
      "Failed to download (trying next):\n",
      "HTTP Error 403: Forbidden\n",
      "\n",
      "Downloading https://ossci-datasets.s3.amazonaws.com/mnist/t10k-images-idx3-ubyte.gz\n",
      "Downloading https://ossci-datasets.s3.amazonaws.com/mnist/t10k-images-idx3-ubyte.gz to ./data/MNIST/raw/t10k-images-idx3-ubyte.gz\n"
     ]
    },
    {
     "name": "stderr",
     "output_type": "stream",
     "text": [
      "100%|██████████| 1648877/1648877 [00:00<00:00, 4917149.00it/s]\n"
     ]
    },
    {
     "name": "stdout",
     "output_type": "stream",
     "text": [
      "Extracting ./data/MNIST/raw/t10k-images-idx3-ubyte.gz to ./data/MNIST/raw\n",
      "\n",
      "Downloading http://yann.lecun.com/exdb/mnist/t10k-labels-idx1-ubyte.gz\n",
      "Failed to download (trying next):\n",
      "HTTP Error 403: Forbidden\n",
      "\n",
      "Downloading https://ossci-datasets.s3.amazonaws.com/mnist/t10k-labels-idx1-ubyte.gz\n",
      "Downloading https://ossci-datasets.s3.amazonaws.com/mnist/t10k-labels-idx1-ubyte.gz to ./data/MNIST/raw/t10k-labels-idx1-ubyte.gz\n"
     ]
    },
    {
     "name": "stderr",
     "output_type": "stream",
     "text": [
      "100%|██████████| 4542/4542 [00:00<00:00, 1380473.10it/s]"
     ]
    },
    {
     "name": "stdout",
     "output_type": "stream",
     "text": [
      "Extracting ./data/MNIST/raw/t10k-labels-idx1-ubyte.gz to ./data/MNIST/raw\n",
      "\n"
     ]
    },
    {
     "name": "stderr",
     "output_type": "stream",
     "text": [
      "\n"
     ]
    }
   ],
   "execution_count": 6
  },
  {
   "metadata": {},
   "cell_type": "markdown",
   "source": "Step 2: Build a Fully Connected Neural Network\n",
   "id": "1e9b4edd6547150f"
  },
  {
   "metadata": {
    "ExecuteTime": {
     "end_time": "2024-09-18T20:58:38.123135Z",
     "start_time": "2024-09-18T20:57:33.324079Z"
    }
   },
   "cell_type": "code",
   "source": [
    "# Define the model\n",
    "class NeuralNet(nn.Module):\n",
    "    def __init__(self):\n",
    "        super(NeuralNet, self).__init__()\n",
    "        self.fc1 = nn.Linear(28*28, 128)\n",
    "        self.fc2 = nn.Linear(128, 64)\n",
    "        self.fc3 = nn.Linear(64, 10)\n",
    "\n",
    "    def forward(self, x):\n",
    "        x = x.view(-1, 28*28)  # Flatten the image\n",
    "        x = torch.relu(self.fc1(x))\n",
    "        x = torch.relu(self.fc2(x))\n",
    "        x = self.fc3(x)\n",
    "        return x\n",
    "\n",
    "# Initialize the model, loss function, and optimizer\n",
    "model = NeuralNet()\n",
    "criterion = nn.CrossEntropyLoss()\n",
    "optimizer = optim.Adam(model.parameters(), lr=0.001)\n",
    "\n",
    "# Training loop\n",
    "epochs = 5\n",
    "for epoch in range(epochs):\n",
    "    running_loss = 0\n",
    "    for images, labels in train_loader:\n",
    "        # Zero gradients\n",
    "        optimizer.zero_grad()\n",
    "\n",
    "        # Forward pass\n",
    "        outputs = model(images)\n",
    "        loss = criterion(outputs, labels)\n",
    "\n",
    "        # Backward pass and optimization\n",
    "        loss.backward()\n",
    "        optimizer.step()\n",
    "\n",
    "        running_loss += loss.item()\n",
    "\n",
    "    print(f\"Epoch [{epoch+1}/{epochs}], Loss: {running_loss/len(train_loader):.4f}\")\n"
   ],
   "id": "f28df819fff964df",
   "outputs": [
    {
     "name": "stdout",
     "output_type": "stream",
     "text": [
      "Epoch [1/5], Loss: 0.3904\n",
      "Epoch [2/5], Loss: 0.1867\n",
      "Epoch [3/5], Loss: 0.1364\n",
      "Epoch [4/5], Loss: 0.1112\n",
      "Epoch [5/5], Loss: 0.0940\n"
     ]
    }
   ],
   "execution_count": 7
  },
  {
   "metadata": {},
   "cell_type": "markdown",
   "source": "",
   "id": "2cf6604b3219cd2d"
  },
  {
   "metadata": {},
   "cell_type": "markdown",
   "source": "2. Select Test Images and Use LIME to Explain Predictions\n",
   "id": "e7ade52953ad501e"
  },
  {
   "metadata": {
    "ExecuteTime": {
     "end_time": "2024-09-18T20:54:56.117708Z",
     "start_time": "2024-09-18T20:54:52.498995Z"
    }
   },
   "cell_type": "code",
   "source": [
    "!pip install lime\n",
    "import numpy as np\n",
    "import matplotlib.pyplot as plt\n",
    "from lime import lime_image\n",
    "from skimage.segmentation import mark_boundaries\n",
    "from torch.autograd import Variable\n",
    "\n",
    "# Function to predict using the PyTorch model\n",
    "def predict(images):\n",
    "    images = torch.Tensor(images).permute(0, 3, 1, 2)  # Convert images to PyTorch tensor\n",
    "    images = images / 255.0  # Normalize\n",
    "    outputs = model(images)\n",
    "    return outputs.detach().numpy()\n",
    "\n",
    "# Select test images\n",
    "dataiter = iter(test_loader)\n",
    "images, labels = dataiter.next()\n",
    "test_images = images[:5]\n",
    "test_labels = labels[:5]\n",
    "\n",
    "# Create a LIME explainer\n",
    "explainer = lime_image.LimeImageExplainer()\n",
    "\n",
    "# Explain a single image\n",
    "i = 0  # Index of the image to explain\n",
    "image = test_images[i].numpy().transpose(1, 2, 0)\n",
    "explanation = explainer.explain_instance(image, predict, top_labels=1, hide_color=0, num_samples=1000)\n",
    "\n",
    "# Visualize the LIME explanation\n",
    "temp, mask = explanation.get_image_and_mask(explanation.top_labels[0], positive_only=True, num_features=5, hide_rest=False)\n",
    "plt.imshow(mark_boundaries(temp / 2 + 0.5, mask))\n",
    "plt.title(f\"LIME Explanation for Test Image {i}\")\n",
    "plt.show()\n",
    "\n"
   ],
   "id": "16dd85ce4c5cf108",
   "outputs": [
    {
     "name": "stdout",
     "output_type": "stream",
     "text": [
      "Requirement already satisfied: lime in /opt/miniconda3/envs/zConda/lib/python3.11/site-packages (0.2.0.1)\r\n",
      "Requirement already satisfied: matplotlib in /opt/miniconda3/envs/zConda/lib/python3.11/site-packages (from lime) (3.9.2)\r\n",
      "Requirement already satisfied: numpy in /opt/miniconda3/envs/zConda/lib/python3.11/site-packages (from lime) (1.23.5)\r\n",
      "Requirement already satisfied: scipy in /opt/miniconda3/envs/zConda/lib/python3.11/site-packages (from lime) (1.13.1)\r\n",
      "Requirement already satisfied: tqdm in /opt/miniconda3/envs/zConda/lib/python3.11/site-packages (from lime) (4.66.5)\r\n",
      "Requirement already satisfied: scikit-learn>=0.18 in /opt/miniconda3/envs/zConda/lib/python3.11/site-packages (from lime) (1.5.1)\r\n",
      "Requirement already satisfied: scikit-image>=0.12 in /opt/miniconda3/envs/zConda/lib/python3.11/site-packages (from lime) (0.24.0)\r\n",
      "Requirement already satisfied: networkx>=2.8 in /opt/miniconda3/envs/zConda/lib/python3.11/site-packages (from scikit-image>=0.12->lime) (3.3)\r\n",
      "Requirement already satisfied: pillow>=9.1 in /opt/miniconda3/envs/zConda/lib/python3.11/site-packages (from scikit-image>=0.12->lime) (10.4.0)\r\n",
      "Requirement already satisfied: imageio>=2.33 in /opt/miniconda3/envs/zConda/lib/python3.11/site-packages (from scikit-image>=0.12->lime) (2.35.1)\r\n",
      "Requirement already satisfied: tifffile>=2022.8.12 in /opt/miniconda3/envs/zConda/lib/python3.11/site-packages (from scikit-image>=0.12->lime) (2024.8.10)\r\n",
      "Requirement already satisfied: packaging>=21 in /opt/miniconda3/envs/zConda/lib/python3.11/site-packages (from scikit-image>=0.12->lime) (24.1)\r\n",
      "Requirement already satisfied: lazy-loader>=0.4 in /opt/miniconda3/envs/zConda/lib/python3.11/site-packages (from scikit-image>=0.12->lime) (0.4)\r\n",
      "Requirement already satisfied: joblib>=1.2.0 in /opt/miniconda3/envs/zConda/lib/python3.11/site-packages (from scikit-learn>=0.18->lime) (1.4.2)\r\n",
      "Requirement already satisfied: threadpoolctl>=3.1.0 in /opt/miniconda3/envs/zConda/lib/python3.11/site-packages (from scikit-learn>=0.18->lime) (3.5.0)\r\n",
      "Requirement already satisfied: contourpy>=1.0.1 in /opt/miniconda3/envs/zConda/lib/python3.11/site-packages (from matplotlib->lime) (1.2.1)\r\n",
      "Requirement already satisfied: cycler>=0.10 in /opt/miniconda3/envs/zConda/lib/python3.11/site-packages (from matplotlib->lime) (0.12.1)\r\n",
      "Requirement already satisfied: fonttools>=4.22.0 in /opt/miniconda3/envs/zConda/lib/python3.11/site-packages (from matplotlib->lime) (4.53.1)\r\n",
      "Requirement already satisfied: kiwisolver>=1.3.1 in /opt/miniconda3/envs/zConda/lib/python3.11/site-packages (from matplotlib->lime) (1.4.5)\r\n",
      "Requirement already satisfied: pyparsing>=2.3.1 in /opt/miniconda3/envs/zConda/lib/python3.11/site-packages (from matplotlib->lime) (3.1.2)\r\n",
      "Requirement already satisfied: python-dateutil>=2.7 in /opt/miniconda3/envs/zConda/lib/python3.11/site-packages (from matplotlib->lime) (2.9.0.post0)\r\n",
      "Requirement already satisfied: six>=1.5 in /opt/miniconda3/envs/zConda/lib/python3.11/site-packages (from python-dateutil>=2.7->matplotlib->lime) (1.16.0)\r\n"
     ]
    },
    {
     "ename": "NameError",
     "evalue": "name 'test_loader' is not defined",
     "output_type": "error",
     "traceback": [
      "\u001B[0;31m---------------------------------------------------------------------------\u001B[0m",
      "\u001B[0;31mNameError\u001B[0m                                 Traceback (most recent call last)",
      "Cell \u001B[0;32mIn[4], line 16\u001B[0m\n\u001B[1;32m     13\u001B[0m     \u001B[38;5;28;01mreturn\u001B[39;00m outputs\u001B[38;5;241m.\u001B[39mdetach()\u001B[38;5;241m.\u001B[39mnumpy()\n\u001B[1;32m     15\u001B[0m \u001B[38;5;66;03m# Select test images\u001B[39;00m\n\u001B[0;32m---> 16\u001B[0m dataiter \u001B[38;5;241m=\u001B[39m \u001B[38;5;28miter\u001B[39m(test_loader)\n\u001B[1;32m     17\u001B[0m images, labels \u001B[38;5;241m=\u001B[39m dataiter\u001B[38;5;241m.\u001B[39mnext()\n\u001B[1;32m     18\u001B[0m test_images \u001B[38;5;241m=\u001B[39m images[:\u001B[38;5;241m5\u001B[39m]\n",
      "\u001B[0;31mNameError\u001B[0m: name 'test_loader' is not defined"
     ]
    }
   ],
   "execution_count": 4
  },
  {
   "metadata": {},
   "cell_type": "markdown",
   "source": "3. Use SHAP to Explain Predictions\n",
   "id": "63bbda56206e2705"
  },
  {
   "metadata": {},
   "cell_type": "code",
   "outputs": [],
   "execution_count": null,
   "source": "",
   "id": "bcdf321852432f75"
  },
  {
   "metadata": {
    "ExecuteTime": {
     "end_time": "2024-09-18T22:43:38.091306Z",
     "start_time": "2024-09-18T22:43:12.219829Z"
    }
   },
   "cell_type": "code",
   "source": [
    "import shap\n",
    "\n",
    "# Convert the model to a format SHAP can use\n",
    "def pytorch_predict(data):\n",
    "    with torch.no_grad():\n",
    "        data = torch.tensor(data).float()\n",
    "        data = data.view(-1, 28*28)\n",
    "        return model(data).numpy()\n",
    "\n",
    "# Select a few test images for SHAP\n",
    "shap_test_images = images[:5].view(-1, 28*28).numpy()\n",
    "\n",
    "# Create a SHAP explainer\n",
    "explainer = shap.KernelExplainer(pytorch_predict, shap_test_images)\n",
    "\n",
    "# Calculate SHAP values for one image\n",
    "shap_values = explainer.shap_values(shap_test_images)\n",
    "\n",
    "# Plot SHAP values\n",
    "shap.image_plot(shap_values, shap_test_images.reshape(-1, 28, 28))\n"
   ],
   "id": "a88316750e90f6e4",
   "outputs": [
    {
     "data": {
      "text/plain": [
       "  0%|          | 0/5 [00:00<?, ?it/s]"
      ],
      "application/vnd.jupyter.widget-view+json": {
       "version_major": 2,
       "version_minor": 0,
       "model_id": "c6cf3305370542e89db2a877991f5ae5"
      }
     },
     "metadata": {},
     "output_type": "display_data"
    },
    {
     "data": {
      "text/plain": [
       "<Figure size 600x500 with 3 Axes>"
      ],
      "image/png": "[encoded data removed]"
     },
     "metadata": {},
     "output_type": "display_data"
    }
   ],
   "execution_count": 8
  }
 ],
 "metadata": {
  "kernelspec": {
   "display_name": "Python 3",
   "language": "python",
   "name": "python3"
  },
  "language_info": {
   "codemirror_mode": {
    "name": "ipython",
    "version": 2
   },
   "file_extension": ".py",
   "mimetype": "text/x-python",
   "name": "python",
   "nbconvert_exporter": "python",
   "pygments_lexer": "ipython2",
   "version": "2.7.6"
  }
 },
 "nbformat": 4,
 "nbformat_minor": 5
}
